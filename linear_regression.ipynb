{
 "metadata": {
  "language_info": {
   "codemirror_mode": {
    "name": "ipython",
    "version": 3
   },
   "file_extension": ".py",
   "mimetype": "text/x-python",
   "name": "python",
   "nbconvert_exporter": "python",
   "pygments_lexer": "ipython3",
   "version": "3.8.0-final"
  },
  "orig_nbformat": 2,
  "kernelspec": {
   "name": "python3",
   "display_name": "Python 3.8.0 64-bit",
   "metadata": {
    "interpreter": {
     "hash": "ddc45c98f19b7d821ab9be1b6cc15bce08798b3c6a4842d07391553b72f88e66"
    }
   }
  }
 },
 "nbformat": 4,
 "nbformat_minor": 2,
 "cells": [
  {
   "source": [
    "# 주피터 노트북 이용"
   ],
   "cell_type": "markdown",
   "metadata": {}
  },
  {
   "source": [
    "## 1. 라이브러리 가져오기"
   ],
   "cell_type": "markdown",
   "metadata": {}
  },
  {
   "source": [
    "import torch\n",
    "import torch.nn as nn\n",
    "import torch.optim as optim\n",
    "import torch.nn.init as init\n",
    "from torch.autograd import Variable"
   ],
   "cell_type": "code",
   "metadata": {},
   "execution_count": 1,
   "outputs": []
  },
  {
   "source": [
    "## 2. 데이터 생성"
   ],
   "cell_type": "markdown",
   "metadata": {}
  },
  {
   "cell_type": "code",
   "execution_count": 2,
   "metadata": {},
   "outputs": [],
   "source": [
    "# HYPER PARAMETER\n",
    "num_data = 1000\n",
    "num_epoch = 5000\n",
    "lr = 0.001\n",
    "\n",
    "noise = init.normal_(torch.FloatTensor(num_data,1),std=10)\n",
    "\n",
    "x = init.uniform_(torch.Tensor(num_data,1), -15,15)\n",
    "y = x**2 + 3\n",
    "\n",
    "y_noise = y + noise"
   ]
  },
  {
   "source": [
    "## 3. 모델 & 옵티마이저"
   ],
   "cell_type": "markdown",
   "metadata": {}
  },
  {
   "cell_type": "code",
   "execution_count": 3,
   "metadata": {},
   "outputs": [],
   "source": [
    "model = nn.Sequential(\n",
    "    nn.Linear(1, 6),\n",
    "    nn.ReLU(),\n",
    "    nn.Linear(6, 10),\n",
    "    nn.ReLU(),\n",
    "    nn.Linear(10, 6),\n",
    "    nn.ReLU(),\n",
    "    nn.Linear(6, 1),\n",
    ")\n",
    "\n",
    "loss_func = nn.L1Loss()\n",
    "optimizer = optim.SGD(model.parameters(), lr=lr)"
   ]
  },
  {
   "source": [
    "## 4. 학습"
   ],
   "cell_type": "markdown",
   "metadata": {}
  },
  {
   "cell_type": "code",
   "execution_count": 4,
   "metadata": {},
   "outputs": [
    {
     "output_type": "stream",
     "name": "stdout",
     "text": [
      "EPOCH : 0\tLOSS : 78.43518829345703\n",
      "EPOCH : 100\tLOSS : 77.90408325195312\n",
      "EPOCH : 200\tLOSS : 76.32318878173828\n",
      "EPOCH : 300\tLOSS : 65.14720916748047\n",
      "EPOCH : 400\tLOSS : 21.15365219116211\n",
      "EPOCH : 500\tLOSS : 20.64828109741211\n",
      "EPOCH : 600\tLOSS : 20.158878326416016\n",
      "EPOCH : 700\tLOSS : 19.674102783203125\n",
      "EPOCH : 800\tLOSS : 19.147451400756836\n",
      "EPOCH : 900\tLOSS : 18.55348014831543\n",
      "EPOCH : 1000\tLOSS : 17.878572463989258\n",
      "EPOCH : 1100\tLOSS : 17.168413162231445\n",
      "EPOCH : 1200\tLOSS : 16.445341110229492\n",
      "EPOCH : 1300\tLOSS : 15.75255298614502\n",
      "EPOCH : 1400\tLOSS : 14.988597869873047\n",
      "EPOCH : 1500\tLOSS : 14.237829208374023\n",
      "EPOCH : 1600\tLOSS : 13.526047706604004\n",
      "EPOCH : 1700\tLOSS : 12.902718544006348\n",
      "EPOCH : 1800\tLOSS : 12.553683280944824\n",
      "EPOCH : 1900\tLOSS : 12.314399719238281\n",
      "EPOCH : 2000\tLOSS : 12.1082124710083\n",
      "EPOCH : 2100\tLOSS : 11.897894859313965\n",
      "EPOCH : 2200\tLOSS : 11.697234153747559\n",
      "EPOCH : 2300\tLOSS : 11.509673118591309\n",
      "EPOCH : 2400\tLOSS : 11.352215766906738\n",
      "EPOCH : 2500\tLOSS : 11.192299842834473\n",
      "EPOCH : 2600\tLOSS : 11.060243606567383\n",
      "EPOCH : 2700\tLOSS : 10.943878173828125\n",
      "EPOCH : 2800\tLOSS : 10.846476554870605\n",
      "EPOCH : 2900\tLOSS : 10.75915813446045\n",
      "EPOCH : 3000\tLOSS : 10.680712699890137\n",
      "EPOCH : 3100\tLOSS : 10.608794212341309\n",
      "EPOCH : 3200\tLOSS : 10.539875030517578\n",
      "EPOCH : 3300\tLOSS : 10.47050952911377\n",
      "EPOCH : 3400\tLOSS : 10.4038667678833\n",
      "EPOCH : 3500\tLOSS : 10.347259521484375\n",
      "EPOCH : 3600\tLOSS : 10.294724464416504\n",
      "EPOCH : 3700\tLOSS : 10.24128246307373\n",
      "EPOCH : 3800\tLOSS : 10.185810089111328\n",
      "EPOCH : 3900\tLOSS : 10.131428718566895\n",
      "EPOCH : 4000\tLOSS : 10.07917594909668\n",
      "EPOCH : 4100\tLOSS : 10.022518157958984\n",
      "EPOCH : 4200\tLOSS : 9.968902587890625\n",
      "EPOCH : 4300\tLOSS : 9.91824722290039\n",
      "EPOCH : 4400\tLOSS : 9.866873741149902\n",
      "EPOCH : 4500\tLOSS : 9.812716484069824\n",
      "EPOCH : 4600\tLOSS : 9.753018379211426\n",
      "EPOCH : 4700\tLOSS : 9.695598602294922\n",
      "EPOCH : 4800\tLOSS : 9.637380599975586\n",
      "EPOCH : 4900\tLOSS : 10.249855995178223\n"
     ]
    }
   ],
   "source": [
    "label = Variable(y_noise)\n",
    "\n",
    "for i in range(num_epoch):\n",
    "    optimizer.zero_grad() # 그레디언트 초기화\n",
    "    output = model(Variable(x))\n",
    "\n",
    "    loss = loss_func(output, label) # 두 Variable 비교, 오차 계산\n",
    "    loss.backward() # 역전파\n",
    "    optimizer.step() # 가중치 update\n",
    "\n",
    "    if i%100 == 0:\n",
    "        print(\"EPOCH : {}\\tLOSS : {}\".format(i,loss.item()))"
   ]
  }
 ]
}