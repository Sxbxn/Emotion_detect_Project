{
  "nbformat": 4,
  "nbformat_minor": 0,
  "metadata": {
    "kernelspec": {
      "display_name": "Python 3",
      "language": "python",
      "name": "python3"
    },
    "language_info": {
      "codemirror_mode": {
        "name": "ipython",
        "version": 3
      },
      "file_extension": ".py",
      "mimetype": "text/x-python",
      "name": "python",
      "nbconvert_exporter": "python",
      "pygments_lexer": "ipython3",
      "version": "3.7.0"
    },
    "colab": {
      "name": "cnn_prototype.ipynb",
      "provenance": [],
      "collapsed_sections": []
    },
    "accelerator": "GPU"
  },
  "cells": [
    {
      "cell_type": "markdown",
      "metadata": {
        "id": "-Wx8EDfir3Vj"
      },
      "source": [
        "# CNN 설계\n"
      ]
    },
    {
      "cell_type": "code",
      "metadata": {
        "id": "NLuLSKGPr3Vo"
      },
      "source": [
        "import torch\n",
        "import torch.nn as nn\n",
        "import torchvision\n",
        "import torch.optim as optim\n",
        "import torch.nn.functional as F\n",
        "from torchvision import transforms, datasets, models\n",
        "from torchvision.utils import make_grid\n",
        "import os\n",
        "from matplotlib import pyplot as plt\n",
        "from PIL import Image\n",
        "import numpy as np"
      ],
      "execution_count": 34,
      "outputs": []
    },
    {
      "cell_type": "code",
      "metadata": {
        "id": "kvDIuHu6r3Vp",
        "colab": {
          "base_uri": "https://localhost:8080/"
        },
        "outputId": "8b3212a3-270e-4800-dcda-973c9adfbb3a"
      },
      "source": [
        "USE_CUDA = torch.cuda.is_available()\n",
        "DEVICE = torch.device(\"cuda\" if USE_CUDA else \"cpu\")\n",
        "print(DEVICE)"
      ],
      "execution_count": 35,
      "outputs": [
        {
          "output_type": "stream",
          "text": [
            "cuda\n"
          ],
          "name": "stdout"
        }
      ]
    },
    {
      "cell_type": "code",
      "metadata": {
        "colab": {
          "base_uri": "https://localhost:8080/"
        },
        "id": "RUcleUplfqB9",
        "outputId": "a4b4da34-29c2-4e54-891b-022b1578d517"
      },
      "source": [
        "from google.colab import drive\n",
        "drive.mount('/content/drive')"
      ],
      "execution_count": 36,
      "outputs": [
        {
          "output_type": "stream",
          "text": [
            "Drive already mounted at /content/drive; to attempt to forcibly remount, call drive.mount(\"/content/drive\", force_remount=True).\n"
          ],
          "name": "stdout"
        }
      ]
    },
    {
      "cell_type": "code",
      "metadata": {
        "id": "p2YLQrGhUSGw"
      },
      "source": [
        "# !pip install kaggle --upgrade\n",
        "# os.environ['KAGGLE_USERNAME'] = 'jungyuchoi'\n",
        "# os.environ['KAGGLE_KEY'] = '9431599f2458bdba977477e62d1dd272'\n",
        "# !kaggle datasets download -d ananthu017/emotion-detection-fer\n",
        "# !unzip '*.zip'"
      ],
      "execution_count": 37,
      "outputs": []
    },
    {
      "cell_type": "code",
      "metadata": {
        "colab": {
          "base_uri": "https://localhost:8080/"
        },
        "id": "7Lelxw3WIIqD",
        "outputId": "c0520748-1829-4eba-b8c0-cd238c14482b"
      },
      "source": [
        "!ls\n",
        "torch.cuda.empty_cache()\n",
        "import gc\n",
        "gc.collect()"
      ],
      "execution_count": 38,
      "outputs": [
        {
          "output_type": "stream",
          "text": [
            "drive  emotion-detection-fer.zip  sample_data  test  train\n"
          ],
          "name": "stdout"
        },
        {
          "output_type": "execute_result",
          "data": {
            "text/plain": [
              "4760"
            ]
          },
          "metadata": {
            "tags": []
          },
          "execution_count": 38
        }
      ]
    },
    {
      "cell_type": "markdown",
      "metadata": {
        "id": "GD8daK-nr3Vq"
      },
      "source": [
        "## 하이퍼파라미터 "
      ]
    },
    {
      "cell_type": "code",
      "metadata": {
        "id": "02xM8-Oer3Vq"
      },
      "source": [
        "EPOCHS     = 50\n",
        "BATCH_SIZE = 200\n",
        "MAX_LR = 0.008"
      ],
      "execution_count": 39,
      "outputs": []
    },
    {
      "cell_type": "markdown",
      "metadata": {
        "id": "lj3Uxw90r3Vq"
      },
      "source": [
        "## 데이터셋 불러오기"
      ]
    },
    {
      "cell_type": "code",
      "metadata": {
        "colab": {
          "base_uri": "https://localhost:8080/",
          "height": 456
        },
        "id": "zeuAUne7r3Vq",
        "outputId": "a4788ad9-a12c-4d74-961f-f286e0acfa12"
      },
      "source": [
        "trans = transforms.Compose([\n",
        "                            transforms.Grayscale(),\n",
        "                            # transforms.RandomHorizontalFlip(),\n",
        "                            transforms.RandomRotation(30),\n",
        "                            transforms.ToTensor(),\n",
        "                            transforms.Normalize((0.5,), (0.5,))])\n",
        "\n",
        "train_data = torchvision.datasets.ImageFolder(root='./train', transform=trans)\n",
        "test_data = torchvision.datasets.ImageFolder(root='./test', transform=trans)\n",
        "\n",
        "train_loader = torch.utils.data.DataLoader(dataset = train_data, batch_size = BATCH_SIZE, shuffle = True)\n",
        "test_loader = torch.utils.data.DataLoader(dataset = test_data, batch_size = BATCH_SIZE, shuffle = True)\n",
        "\n",
        "classes = ['neutral', 'fearful', 'sad', 'happy', 'surprised', 'angry', 'disgusted']\n",
        "\n",
        "dataiter = iter(train_loader)\n",
        "images, labels = dataiter.next()\n",
        "print(images.shape)\n",
        "img = Image.open('./train/angry/im1.png')\n",
        "plt.imshow(np.asarray(img))\n",
        "print(labels)"
      ],
      "execution_count": 40,
      "outputs": [
        {
          "output_type": "stream",
          "text": [
            "torch.Size([200, 1, 48, 48])\n",
            "tensor([4, 4, 2, 5, 4, 4, 2, 4, 0, 6, 2, 3, 3, 3, 2, 3, 3, 2, 5, 3, 4, 6, 5, 3,\n",
            "        4, 3, 4, 5, 4, 2, 4, 2, 5, 3, 5, 3, 0, 2, 2, 5, 3, 0, 6, 0, 2, 6, 4, 5,\n",
            "        3, 6, 4, 5, 3, 4, 3, 4, 6, 5, 2, 3, 2, 5, 2, 6, 6, 6, 0, 0, 2, 3, 4, 4,\n",
            "        5, 2, 6, 4, 3, 4, 4, 5, 3, 5, 5, 6, 4, 3, 0, 2, 6, 3, 2, 0, 3, 2, 3, 3,\n",
            "        5, 6, 6, 0, 3, 5, 2, 0, 5, 3, 3, 5, 3, 3, 0, 5, 2, 4, 3, 6, 4, 3, 5, 5,\n",
            "        5, 0, 0, 1, 0, 0, 6, 4, 3, 3, 0, 6, 5, 3, 3, 3, 2, 4, 0, 6, 3, 6, 3, 5,\n",
            "        2, 4, 3, 3, 5, 6, 0, 3, 5, 0, 4, 5, 4, 3, 5, 3, 4, 5, 0, 3, 5, 6, 6, 3,\n",
            "        6, 0, 4, 6, 3, 3, 3, 5, 2, 3, 3, 3, 0, 3, 0, 3, 3, 0, 4, 0, 3, 3, 0, 4,\n",
            "        4, 5, 5, 4, 2, 4, 3, 5])\n"
          ],
          "name": "stdout"
        },
        {
          "output_type": "display_data",
          "data": {
            "image/png": "[encoded data removed]",
            "text/plain": [
              "<Figure size 432x288 with 1 Axes>"
            ]
          },
          "metadata": {
            "tags": [],
            "needs_background": "light"
          }
        }
      ]
    },
    {
      "cell_type": "markdown",
      "metadata": {
        "id": "AagNFGUdr3Vr"
      },
      "source": [
        "## 모델\n",
        "\n"
      ]
    },
    {
      "cell_type": "code",
      "metadata": {
        "id": "FMFBl4ckxtJb"
      },
      "source": [
        "# 미리 훈련된 ResNet 모델을 다운로드하고 불러옴\n",
        "# torchvision.models 참고\n",
        "\n",
        "import torchvision.models as models\n",
        "\n",
        "# model = models.resnet50(pretrained=True)\n",
        "# print(model) # 불러온 모델 구조 확인\n",
        "\n",
        "class Model(nn.Module):\n",
        "    def __init__(self):\n",
        "      super(Model, self).__init__()\n",
        "      self.conv1 = nn.Conv2d(1, 16, 3)\n",
        "      self.conv2 = nn.Conv2d(16, 32, 3)\n",
        "      self.conv3 = nn.Conv2d(32, 64, 3)\n",
        "      self.conv4 = nn.Conv2d(64, 32, 3)\n",
        "      self.fc1 = nn.Linear(2048, 1024)\n",
        "      self.fc2 = nn.Linear(1024, 128)\n",
        "      self.fc3 = nn.Linear(128, 7)\n",
        "      self.batch_norm_16 = nn.BatchNorm2d(16)\n",
        "      self.batch_norm_32 = nn.BatchNorm2d(32)\n",
        "      self.batch_norm_64 = nn.BatchNorm2d(64)\n",
        "      self.drop_out = nn.Dropout2d(p=0.3)\n",
        "\n",
        "    def forward(self, x):\n",
        "      \n",
        "      x = F.relu(self.batch_norm_16(self.conv1(x)))\n",
        "      x = F.relu(self.drop_out(F.max_pool2d(self.batch_norm_32(self.conv2(x)), 2)))\n",
        "      x = F.relu(self.drop_out(F.max_pool2d(self.batch_norm_64(self.conv3(x)), 2)))\n",
        "      x = F.relu(self.drop_out(self.batch_norm_32(self.conv4(x))))\n",
        "      x = x.view(-1, 2048)\n",
        "\n",
        "      x = F.relu(self.drop_out(self.fc1(x)))\n",
        "      x = F.relu(self.drop_out(self.fc2(x)))\n",
        "      x = self.fc3(x)\n",
        "\n",
        "      return x\n",
        "\n",
        "model = Model()"
      ],
      "execution_count": 41,
      "outputs": []
    },
    {
      "cell_type": "markdown",
      "metadata": {
        "id": "TWlDMcGHr3Vs"
      },
      "source": [
        "## 준비"
      ]
    },
    {
      "cell_type": "code",
      "metadata": {
        "id": "DooWuhuar3Vt"
      },
      "source": [
        "model.to(DEVICE)\n",
        "model.load_state_dict(torch.load('/content/drive/MyDrive/model/model.pt'))\n",
        "optimizer = optim.Adam(model.parameters(), lr=MAX_LR)\n",
        "scheduler = optim.lr_scheduler.OneCycleLR(optimizer, MAX_LR, epochs=EPOCHS, steps_per_epoch=len(train_loader))"
      ],
      "execution_count": 42,
      "outputs": []
    },
    {
      "cell_type": "markdown",
      "metadata": {
        "id": "n_-fyFVpr3Vt"
      },
      "source": [
        "## 학습하기"
      ]
    },
    {
      "cell_type": "code",
      "metadata": {
        "id": "yA4gbfZSr3Vt"
      },
      "source": [
        "def train(model, train_loader, optimizer, epoch):\n",
        "    model.train()\n",
        "    for batch_idx, (data, target) in enumerate(train_loader):\n",
        "        data, target = data.to(DEVICE), target.to(DEVICE)\n",
        "        optimizer.zero_grad()\n",
        "        output = model(data)\n",
        "        loss = F.cross_entropy(output, target)\n",
        "        loss.backward()\n",
        "        optimizer.step()"
      ],
      "execution_count": 43,
      "outputs": []
    },
    {
      "cell_type": "markdown",
      "metadata": {
        "id": "SCn77FrRr3Vt"
      },
      "source": [
        "## 테스트하기"
      ]
    },
    {
      "cell_type": "code",
      "metadata": {
        "id": "1Gqf8tBSr3Vt"
      },
      "source": [
        "def evaluate(model, test_loader):\n",
        "    model.eval()\n",
        "    test_loss = 0\n",
        "    correct = 0\n",
        "    with torch.no_grad():\n",
        "        for data, target in test_loader:\n",
        "            data, target = data.to(DEVICE), target.to(DEVICE)\n",
        "            output = model(data)\n",
        "\n",
        "            # 배치 오차를 합산\n",
        "            test_loss += F.cross_entropy(output, target,\n",
        "                                         reduction='sum').item()\n",
        "\n",
        "            # 가장 높은 값을 가진 인덱스가 바로 예측값\n",
        "            pred = output.max(1, keepdim=True)[1]\n",
        "            correct += pred.eq(target.view_as(pred)).sum().item()\n",
        "\n",
        "    test_loss /= len(test_loader.dataset)\n",
        "    test_accuracy = 100. * correct / len(test_loader.dataset)\n",
        "    return test_loss, test_accuracy"
      ],
      "execution_count": 44,
      "outputs": []
    },
    {
      "cell_type": "code",
      "metadata": {
        "id": "i-4xWdDofG4g"
      },
      "source": [
        "# !cd /content/model"
      ],
      "execution_count": 45,
      "outputs": []
    },
    {
      "cell_type": "code",
      "metadata": {
        "id": "qZ01U4i_fCag"
      },
      "source": [
        "\n",
        "# torch.save(model.state_dict(), \"/content/drive/MyDrive/model/model.pt\")"
      ],
      "execution_count": 46,
      "outputs": []
    },
    {
      "cell_type": "markdown",
      "metadata": {
        "id": "V-Ocqw0vr3Vu"
      },
      "source": [
        "## 학습"
      ]
    },
    {
      "cell_type": "code",
      "metadata": {
        "id": "HWHW27FRr3Vu",
        "colab": {
          "base_uri": "https://localhost:8080/",
          "height": 1000
        },
        "outputId": "54ce67dc-c25b-4362-a7b9-109cf9b8cab0"
      },
      "source": [
        "loss = []\n",
        "accuracy = []\n",
        "for epoch in range(1, EPOCHS + 1):\n",
        "    train(model, train_loader, optimizer, epoch)\n",
        "    scheduler.step()\n",
        "    test_loss, test_accuracy = evaluate(model, test_loader)\n",
        "    \n",
        "    loss.append(test_loss)\n",
        "    accuracy.append(test_accuracy)\n",
        "    print('[{}] Test Loss: {:.4f}, Accuracy: {:.2f}%'.format(\n",
        "          epoch, test_loss, test_accuracy))\n",
        "plt.plot(loss)\n",
        "plt.plot(accuracy)\n",
        "plt.ylim(0, 100)\n",
        "plt.xlabel('Epoch')\n",
        "plt.ylabel('Accuracy')\n",
        "\n",
        "torch.save(model.state_dict(), \"/content/drive/MyDrive/model/model_rotate.pt\")"
      ],
      "execution_count": 47,
      "outputs": [
        {
          "output_type": "stream",
          "text": [
            "[1] Test Loss: 1.3049, Accuracy: 51.91%\n",
            "[2] Test Loss: 1.3022, Accuracy: 50.77%\n",
            "[3] Test Loss: 1.2701, Accuracy: 52.80%\n",
            "[4] Test Loss: 1.2813, Accuracy: 53.05%\n",
            "[5] Test Loss: 1.2514, Accuracy: 53.54%\n",
            "[6] Test Loss: 1.2608, Accuracy: 53.26%\n",
            "[7] Test Loss: 1.2511, Accuracy: 54.44%\n",
            "[8] Test Loss: 1.2206, Accuracy: 54.25%\n",
            "[9] Test Loss: 1.2219, Accuracy: 54.32%\n",
            "[10] Test Loss: 1.2176, Accuracy: 55.04%\n",
            "[11] Test Loss: 1.2264, Accuracy: 55.49%\n",
            "[12] Test Loss: 1.2211, Accuracy: 56.05%\n",
            "[13] Test Loss: 1.2187, Accuracy: 54.54%\n",
            "[14] Test Loss: 1.2148, Accuracy: 55.34%\n",
            "[15] Test Loss: 1.2065, Accuracy: 55.73%\n",
            "[16] Test Loss: 1.2100, Accuracy: 55.25%\n",
            "[17] Test Loss: 1.2091, Accuracy: 54.64%\n",
            "[18] Test Loss: 1.1998, Accuracy: 55.07%\n",
            "[19] Test Loss: 1.2048, Accuracy: 55.78%\n",
            "[20] Test Loss: 1.1979, Accuracy: 55.41%\n",
            "[21] Test Loss: 1.1897, Accuracy: 55.63%\n",
            "[22] Test Loss: 1.2007, Accuracy: 55.10%\n",
            "[23] Test Loss: 1.1947, Accuracy: 55.96%\n",
            "[24] Test Loss: 1.1852, Accuracy: 56.13%\n",
            "[25] Test Loss: 1.1827, Accuracy: 56.14%\n",
            "[26] Test Loss: 1.1723, Accuracy: 56.66%\n",
            "[27] Test Loss: 1.1746, Accuracy: 55.99%\n",
            "[28] Test Loss: 1.1755, Accuracy: 56.39%\n",
            "[29] Test Loss: 1.1880, Accuracy: 56.00%\n",
            "[30] Test Loss: 1.1658, Accuracy: 56.39%\n",
            "[31] Test Loss: 1.1635, Accuracy: 56.39%\n",
            "[32] Test Loss: 1.1476, Accuracy: 57.27%\n",
            "[33] Test Loss: 1.1622, Accuracy: 56.80%\n",
            "[34] Test Loss: 1.1688, Accuracy: 56.65%\n",
            "[35] Test Loss: 1.1580, Accuracy: 57.05%\n",
            "[36] Test Loss: 1.1669, Accuracy: 56.16%\n",
            "[37] Test Loss: 1.1774, Accuracy: 55.68%\n",
            "[38] Test Loss: 1.1605, Accuracy: 56.90%\n",
            "[39] Test Loss: 1.1638, Accuracy: 56.30%\n",
            "[40] Test Loss: 1.1426, Accuracy: 57.31%\n",
            "[41] Test Loss: 1.1513, Accuracy: 57.56%\n",
            "[42] Test Loss: 1.1428, Accuracy: 56.90%\n",
            "[43] Test Loss: 1.1672, Accuracy: 56.99%\n",
            "[44] Test Loss: 1.1443, Accuracy: 56.78%\n",
            "[45] Test Loss: 1.1570, Accuracy: 56.42%\n",
            "[46] Test Loss: 1.1557, Accuracy: 56.62%\n",
            "[47] Test Loss: 1.1653, Accuracy: 56.34%\n",
            "[48] Test Loss: 1.1506, Accuracy: 57.23%\n",
            "[49] Test Loss: 1.1521, Accuracy: 56.71%\n",
            "[50] Test Loss: 1.1540, Accuracy: 57.16%\n"
          ],
          "name": "stdout"
        },
        {
          "output_type": "display_data",
          "data": {
            "image/png": "[encoded data removed]",
            "text/plain": [
              "<Figure size 432x288 with 1 Axes>"
            ]
          },
          "metadata": {
            "tags": [],
            "needs_background": "light"
          }
        }
      ]
    }
  ]
}