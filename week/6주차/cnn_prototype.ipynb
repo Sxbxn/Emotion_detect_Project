{
  "nbformat": 4,
  "nbformat_minor": 0,
  "metadata": {
    "kernelspec": {
      "display_name": "Python 3",
      "language": "python",
      "name": "python3"
    },
    "language_info": {
      "codemirror_mode": {
        "name": "ipython",
        "version": 3
      },
      "file_extension": ".py",
      "mimetype": "text/x-python",
      "name": "python",
      "nbconvert_exporter": "python",
      "pygments_lexer": "ipython3",
      "version": "3.7.0"
    },
    "colab": {
      "name": "cnn_prototype.ipynb",
      "provenance": [],
      "collapsed_sections": []
    },
    "accelerator": "GPU"
  },
  "cells": [
    {
      "cell_type": "markdown",
      "metadata": {
        "id": "-Wx8EDfir3Vj"
      },
      "source": [
        "# CNN 설계\n"
      ]
    },
    {
      "cell_type": "code",
      "metadata": {
        "id": "NLuLSKGPr3Vo"
      },
      "source": [
        "import torch\n",
        "import torch.nn as nn\n",
        "import torchvision\n",
        "import torch.optim as optim\n",
        "import torch.nn.functional as F\n",
        "from torchvision import transforms, datasets, models\n",
        "from torchvision.utils import make_grid\n",
        "import os\n",
        "from matplotlib import pyplot as plt\n",
        "from PIL import Image\n",
        "import numpy as np"
      ],
      "execution_count": 82,
      "outputs": []
    },
    {
      "cell_type": "code",
      "metadata": {
        "id": "kvDIuHu6r3Vp",
        "colab": {
          "base_uri": "https://localhost:8080/"
        },
        "outputId": "d85de5d3-8160-442e-f2e9-6cddb73097b0"
      },
      "source": [
        "USE_CUDA = torch.cuda.is_available()\n",
        "DEVICE = torch.device(\"cuda\" if USE_CUDA else \"cpu\")\n",
        "print(DEVICE)"
      ],
      "execution_count": 83,
      "outputs": [
        {
          "output_type": "stream",
          "text": [
            "cuda\n"
          ],
          "name": "stdout"
        }
      ]
    },
    {
      "cell_type": "code",
      "metadata": {
        "id": "p2YLQrGhUSGw"
      },
      "source": [
        "# !pip install kaggle --upgrade\n",
        "# os.environ['KAGGLE_USERNAME'] = ''\n",
        "# os.environ['KAGGLE_KEY'] = ''\n",
        "# !kaggle datasets download -d ananthu017/emotion-detection-fer\n",
        "# !unzip '*.zip'"
      ],
      "execution_count": 84,
      "outputs": []
    },
    {
      "cell_type": "code",
      "metadata": {
        "colab": {
          "base_uri": "https://localhost:8080/"
        },
        "id": "7Lelxw3WIIqD",
        "outputId": "aa2a3248-6976-49a6-dd8d-7cfbde0b57ef"
      },
      "source": [
        "!ls\n",
        "torch.cuda.empty_cache()\n",
        "import gc\n",
        "gc.collect()"
      ],
      "execution_count": 85,
      "outputs": [
        {
          "output_type": "stream",
          "text": [
            "emotion-detection-fer.zip  sample_data\ttest  train\n"
          ],
          "name": "stdout"
        },
        {
          "output_type": "execute_result",
          "data": {
            "text/plain": [
              "2891"
            ]
          },
          "metadata": {
            "tags": []
          },
          "execution_count": 85
        }
      ]
    },
    {
      "cell_type": "markdown",
      "metadata": {
        "id": "GD8daK-nr3Vq"
      },
      "source": [
        "## 하이퍼파라미터 "
      ]
    },
    {
      "cell_type": "code",
      "metadata": {
        "id": "02xM8-Oer3Vq"
      },
      "source": [
        "EPOCHS     = 50\n",
        "BATCH_SIZE = 200\n",
        "MAX_LR = 0.008"
      ],
      "execution_count": 86,
      "outputs": []
    },
    {
      "cell_type": "markdown",
      "metadata": {
        "id": "lj3Uxw90r3Vq"
      },
      "source": [
        "## 데이터셋 불러오기"
      ]
    },
    {
      "cell_type": "code",
      "metadata": {
        "colab": {
          "base_uri": "https://localhost:8080/",
          "height": 456
        },
        "id": "zeuAUne7r3Vq",
        "outputId": "635af038-affb-40be-a4d0-f0ad4d0defe4"
      },
      "source": [
        "trans = transforms.Compose([\n",
        "                            transforms.Grayscale(),\n",
        "                            transforms.RandomHorizontalFlip(),\n",
        "                            transforms.ToTensor(),\n",
        "                            # transforms.ToTensor()])\n",
        "                            transforms.Normalize((0.5,), (0.5,))])\n",
        "\n",
        "train_data = torchvision.datasets.ImageFolder(root='./train', transform=trans)\n",
        "test_data = torchvision.datasets.ImageFolder(root='./test', transform=trans)\n",
        "\n",
        "train_loader = torch.utils.data.DataLoader(dataset = train_data, batch_size = BATCH_SIZE, shuffle = True)\n",
        "test_loader = torch.utils.data.DataLoader(dataset = test_data, batch_size = BATCH_SIZE, shuffle = True)\n",
        "\n",
        "classes = ['neutral', 'fearful', 'sad', 'happy', 'surprised', 'angry', 'disgusted']\n",
        "\n",
        "dataiter = iter(train_loader)\n",
        "images, labels = dataiter.next()\n",
        "print(images.shape)\n",
        "img = Image.open('./train/angry/im1.png')\n",
        "plt.imshow(np.asarray(img))\n",
        "print(labels)"
      ],
      "execution_count": 87,
      "outputs": [
        {
          "output_type": "stream",
          "text": [
            "torch.Size([200, 1, 48, 48])\n",
            "tensor([6, 5, 2, 3, 3, 4, 2, 3, 6, 3, 2, 3, 3, 4, 1, 5, 3, 3, 3, 3, 5, 3, 4, 4,\n",
            "        4, 3, 3, 3, 3, 4, 5, 5, 6, 3, 3, 4, 2, 3, 4, 3, 1, 3, 5, 5, 4, 4, 3, 4,\n",
            "        5, 5, 2, 5, 3, 3, 2, 3, 2, 5, 0, 2, 0, 0, 4, 4, 3, 6, 5, 2, 3, 3, 6, 0,\n",
            "        3, 2, 3, 4, 4, 2, 4, 6, 4, 3, 0, 3, 5, 2, 3, 4, 0, 3, 3, 3, 5, 3, 3, 0,\n",
            "        3, 4, 3, 3, 5, 3, 4, 3, 2, 2, 1, 4, 0, 6, 6, 2, 5, 4, 5, 0, 3, 3, 0, 4,\n",
            "        3, 4, 3, 0, 4, 3, 4, 5, 5, 4, 3, 3, 3, 2, 6, 3, 4, 5, 4, 5, 4, 3, 1, 3,\n",
            "        0, 5, 3, 5, 1, 3, 4, 4, 5, 3, 4, 2, 0, 6, 0, 4, 5, 2, 6, 6, 6, 2, 3, 4,\n",
            "        3, 0, 3, 6, 5, 0, 3, 3, 3, 2, 6, 1, 3, 2, 3, 2, 5, 4, 1, 2, 3, 4, 3, 3,\n",
            "        5, 3, 4, 5, 2, 3, 3, 6])\n"
          ],
          "name": "stdout"
        },
        {
          "output_type": "display_data",
          "data": {
            "image/png": "[encoded data removed]",
            "text/plain": [
              "<Figure size 432x288 with 1 Axes>"
            ]
          },
          "metadata": {
            "tags": [],
            "needs_background": "light"
          }
        }
      ]
    },
    {
      "cell_type": "markdown",
      "metadata": {
        "id": "AagNFGUdr3Vr"
      },
      "source": [
        "## 모델\n",
        "\n"
      ]
    },
    {
      "cell_type": "code",
      "metadata": {
        "id": "FMFBl4ckxtJb"
      },
      "source": [
        "# 미리 훈련된 ResNet 모델을 다운로드하고 불러옴\n",
        "# torchvision.models 참고\n",
        "\n",
        "import torchvision.models as models\n",
        "\n",
        "# model = models.resnet50(pretrained=True)\n",
        "# print(model) # 불러온 모델 구조 확인\n",
        "\n",
        "class Model(nn.Module):\n",
        "    def __init__(self):\n",
        "      super(Model, self).__init__()\n",
        "      self.conv1 = nn.Conv2d(1, 16, 3)\n",
        "      self.conv2 = nn.Conv2d(16, 32, 3)\n",
        "      self.conv3 = nn.Conv2d(32, 64, 3)\n",
        "      self.conv4 = nn.Conv2d(64, 32, 3)\n",
        "      self.fc1 = nn.Linear(2048, 1024)\n",
        "      self.fc2 = nn.Linear(1024, 128)\n",
        "      self.fc3 = nn.Linear(128, 7)\n",
        "      self.batch_norm_16 = nn.BatchNorm2d(16)\n",
        "      self.batch_norm_32 = nn.BatchNorm2d(32)\n",
        "      self.batch_norm_64 = nn.BatchNorm2d(64)\n",
        "      self.drop_out = nn.Dropout2d(p=0.3)\n",
        "\n",
        "    def forward(self, x):\n",
        "      \n",
        "      x = F.relu(self.batch_norm_16(self.conv1(x)))\n",
        "      x = F.relu(self.drop_out(F.max_pool2d(self.batch_norm_32(self.conv2(x)), 2)))\n",
        "      x = F.relu(self.drop_out(F.max_pool2d(self.batch_norm_64(self.conv3(x)), 2)))\n",
        "      x = F.relu(self.drop_out(self.batch_norm_32(self.conv4(x))))\n",
        "      x = x.view(-1, 2048)\n",
        "\n",
        "      x = F.relu(self.drop_out(self.fc1(x)))\n",
        "      x = F.relu(self.drop_out(self.fc2(x)))\n",
        "      x = self.fc3(x)\n",
        "\n",
        "      return x\n",
        "\n",
        "model = Model()"
      ],
      "execution_count": 88,
      "outputs": []
    },
    {
      "cell_type": "markdown",
      "metadata": {
        "id": "TWlDMcGHr3Vs"
      },
      "source": [
        "## 준비"
      ]
    },
    {
      "cell_type": "code",
      "metadata": {
        "id": "DooWuhuar3Vt"
      },
      "source": [
        "model.to(DEVICE)\n",
        "\n",
        "optimizer = optim.Adam(model.parameters(), lr=MAX_LR)\n",
        "scheduler = optim.lr_scheduler.OneCycleLR(optimizer, MAX_LR, epochs=EPOCHS, steps_per_epoch=len(train_loader))"
      ],
      "execution_count": 90,
      "outputs": []
    },
    {
      "cell_type": "markdown",
      "metadata": {
        "id": "n_-fyFVpr3Vt"
      },
      "source": [
        "## 학습하기"
      ]
    },
    {
      "cell_type": "code",
      "metadata": {
        "id": "yA4gbfZSr3Vt"
      },
      "source": [
        "def train(model, train_loader, optimizer, epoch):\n",
        "    model.train()\n",
        "    for batch_idx, (data, target) in enumerate(train_loader):\n",
        "        data, target = data.to(DEVICE), target.to(DEVICE)\n",
        "        optimizer.zero_grad()\n",
        "        output = model(data)\n",
        "        loss = F.cross_entropy(output, target)\n",
        "        loss.backward()\n",
        "        optimizer.step()"
      ],
      "execution_count": 91,
      "outputs": []
    },
    {
      "cell_type": "markdown",
      "metadata": {
        "id": "SCn77FrRr3Vt"
      },
      "source": [
        "## 테스트하기"
      ]
    },
    {
      "cell_type": "code",
      "metadata": {
        "id": "1Gqf8tBSr3Vt"
      },
      "source": [
        "def evaluate(model, test_loader):\n",
        "    model.eval()\n",
        "    test_loss = 0\n",
        "    correct = 0\n",
        "    with torch.no_grad():\n",
        "        for data, target in test_loader:\n",
        "            data, target = data.to(DEVICE), target.to(DEVICE)\n",
        "            output = model(data)\n",
        "\n",
        "            # 배치 오차를 합산\n",
        "            test_loss += F.cross_entropy(output, target,\n",
        "                                         reduction='sum').item()\n",
        "\n",
        "            # 가장 높은 값을 가진 인덱스가 바로 예측값\n",
        "            pred = output.max(1, keepdim=True)[1]\n",
        "            correct += pred.eq(target.view_as(pred)).sum().item()\n",
        "\n",
        "    test_loss /= len(test_loader.dataset)\n",
        "    test_accuracy = 100. * correct / len(test_loader.dataset)\n",
        "    return test_loss, test_accuracy"
      ],
      "execution_count": 92,
      "outputs": []
    },
    {
      "cell_type": "markdown",
      "metadata": {
        "id": "V-Ocqw0vr3Vu"
      },
      "source": [
        "## 학습"
      ]
    },
    {
      "cell_type": "code",
      "metadata": {
        "id": "HWHW27FRr3Vu",
        "colab": {
          "base_uri": "https://localhost:8080/",
          "height": 1000
        },
        "outputId": "6bd49cf5-76c8-4134-88ad-b5566ba12424"
      },
      "source": [
        "loss = []\n",
        "accuracy = []\n",
        "for epoch in range(1, EPOCHS + 1):\n",
        "    train(model, train_loader, optimizer, epoch)\n",
        "    scheduler.step()\n",
        "    test_loss, test_accuracy = evaluate(model, test_loader)\n",
        "    \n",
        "    loss.append(test_loss)\n",
        "    accuracy.append(test_accuracy)\n",
        "    print('[{}] Test Loss: {:.4f}, Accuracy: {:.2f}%'.format(\n",
        "          epoch, test_loss, test_accuracy))\n",
        "plt.plot(loss)\n",
        "plt.plot(accuracy)\n",
        "plt.ylim(0, 100)\n",
        "plt.xlabel('Epoch')\n",
        "plt.ylabel('Accuracy')"
      ],
      "execution_count": 93,
      "outputs": [
        {
          "output_type": "stream",
          "text": [
            "[1] Test Loss: 1.6440, Accuracy: 38.95%\n",
            "[2] Test Loss: 1.5556, Accuracy: 41.53%\n",
            "[3] Test Loss: 1.4788, Accuracy: 44.93%\n",
            "[4] Test Loss: 1.4237, Accuracy: 46.91%\n",
            "[5] Test Loss: 1.4030, Accuracy: 47.62%\n",
            "[6] Test Loss: 1.3710, Accuracy: 50.64%\n",
            "[7] Test Loss: 1.3397, Accuracy: 51.39%\n",
            "[8] Test Loss: 1.2935, Accuracy: 51.56%\n",
            "[9] Test Loss: 1.2963, Accuracy: 52.62%\n",
            "[10] Test Loss: 1.3025, Accuracy: 53.05%\n",
            "[11] Test Loss: 1.2662, Accuracy: 54.46%\n",
            "[12] Test Loss: 1.2526, Accuracy: 54.44%\n",
            "[13] Test Loss: 1.2243, Accuracy: 55.32%\n",
            "[14] Test Loss: 1.2146, Accuracy: 55.78%\n",
            "[15] Test Loss: 1.2080, Accuracy: 56.02%\n",
            "[16] Test Loss: 1.2011, Accuracy: 56.83%\n",
            "[17] Test Loss: 1.2076, Accuracy: 57.34%\n",
            "[18] Test Loss: 1.1650, Accuracy: 57.94%\n",
            "[19] Test Loss: 1.1882, Accuracy: 57.09%\n",
            "[20] Test Loss: 1.1562, Accuracy: 58.02%\n",
            "[21] Test Loss: 1.1579, Accuracy: 57.82%\n",
            "[22] Test Loss: 1.1505, Accuracy: 58.82%\n",
            "[23] Test Loss: 1.1444, Accuracy: 58.50%\n",
            "[24] Test Loss: 1.1381, Accuracy: 58.75%\n",
            "[25] Test Loss: 1.1456, Accuracy: 59.63%\n",
            "[26] Test Loss: 1.1232, Accuracy: 59.11%\n",
            "[27] Test Loss: 1.1251, Accuracy: 58.94%\n",
            "[28] Test Loss: 1.1010, Accuracy: 59.18%\n",
            "[29] Test Loss: 1.1097, Accuracy: 59.19%\n",
            "[30] Test Loss: 1.1097, Accuracy: 59.72%\n",
            "[31] Test Loss: 1.1130, Accuracy: 60.02%\n",
            "[32] Test Loss: 1.0979, Accuracy: 59.10%\n",
            "[33] Test Loss: 1.1056, Accuracy: 59.74%\n",
            "[34] Test Loss: 1.0805, Accuracy: 60.38%\n",
            "[35] Test Loss: 1.0845, Accuracy: 59.61%\n",
            "[36] Test Loss: 1.0773, Accuracy: 60.76%\n",
            "[37] Test Loss: 1.0821, Accuracy: 59.60%\n",
            "[38] Test Loss: 1.0984, Accuracy: 59.22%\n",
            "[39] Test Loss: 1.0697, Accuracy: 60.30%\n",
            "[40] Test Loss: 1.0822, Accuracy: 60.30%\n",
            "[41] Test Loss: 1.0904, Accuracy: 60.30%\n",
            "[42] Test Loss: 1.0691, Accuracy: 60.74%\n",
            "[43] Test Loss: 1.0639, Accuracy: 60.45%\n",
            "[44] Test Loss: 1.0702, Accuracy: 60.50%\n",
            "[45] Test Loss: 1.0695, Accuracy: 60.50%\n",
            "[46] Test Loss: 1.0643, Accuracy: 60.64%\n",
            "[47] Test Loss: 1.0658, Accuracy: 60.66%\n",
            "[48] Test Loss: 1.0693, Accuracy: 60.14%\n",
            "[49] Test Loss: 1.0635, Accuracy: 60.74%\n",
            "[50] Test Loss: 1.0632, Accuracy: 60.95%\n"
          ],
          "name": "stdout"
        },
        {
          "output_type": "execute_result",
          "data": {
            "text/plain": [
              "Text(0, 0.5, 'Accuracy')"
            ]
          },
          "metadata": {
            "tags": []
          },
          "execution_count": 93
        },
        {
          "output_type": "display_data",
          "data": {
            "image/png": "[encoded data removed]",
            "text/plain": [
              "<Figure size 432x288 with 1 Axes>"
            ]
          },
          "metadata": {
            "tags": [],
            "needs_background": "light"
          }
        }
      ]
    }
  ]
}