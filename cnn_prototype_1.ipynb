{
  "nbformat": 4,
  "nbformat_minor": 0,
  "metadata": {
    "kernelspec": {
      "display_name": "Python 3",
      "language": "python",
      "name": "python3"
    },
    "language_info": {
      "codemirror_mode": {
        "name": "ipython",
        "version": 3
      },
      "file_extension": ".py",
      "mimetype": "text/x-python",
      "name": "python",
      "nbconvert_exporter": "python",
      "pygments_lexer": "ipython3",
      "version": "3.7.0"
    },
    "colab": {
      "name": "resnet_transferlearning.ipynb",
      "provenance": [],
      "collapsed_sections": []
    },
    "accelerator": "GPU"
  },
  "cells": [
    {
      "cell_type": "markdown",
      "metadata": {
        "id": "-Wx8EDfir3Vj"
      },
      "source": [
        "# CNN 설계\n"
      ]
    },
    {
      "cell_type": "code",
      "metadata": {
        "id": "NLuLSKGPr3Vo"
      },
      "source": [
        "import torch\n",
        "import torch.nn as nn\n",
        "import torchvision\n",
        "import torch.optim as optim\n",
        "import torch.nn.functional as F\n",
        "from torchvision import transforms, datasets, models\n",
        "from torchvision.utils import make_grid\n",
        "import os\n",
        "from matplotlib import pyplot as plt\n",
        "from PIL import Image\n",
        "import numpy as np"
      ],
      "execution_count": null,
      "outputs": []
    },
    {
      "cell_type": "code",
      "metadata": {
        "id": "kvDIuHu6r3Vp",
        "colab": {
          "base_uri": "https://localhost:8080/"
        },
        "outputId": "f288e993-3214-410e-d23c-d1f52be3516d"
      },
      "source": [
        "USE_CUDA = torch.cuda.is_available()\n",
        "DEVICE = torch.device(\"cuda\" if USE_CUDA else \"cpu\")\n",
        "print(DEVICE)"
      ],
      "execution_count": null,
      "outputs": [
        {
          "output_type": "stream",
          "text": [
            "cuda\n"
          ],
          "name": "stdout"
        }
      ]
    },
    {
      "cell_type": "code",
      "metadata": {
        "id": "8G-Xl2oa9bfJ"
      },
      "source": [
        ""
      ],
      "execution_count": null,
      "outputs": []
    },
    {
      "cell_type": "code",
      "metadata": {
        "id": "DHFcTAGeK-dx"
      },
      "source": [
        ""
      ],
      "execution_count": null,
      "outputs": []
    },
    {
      "cell_type": "code",
      "metadata": {
        "colab": {
          "base_uri": "https://localhost:8080/"
        },
        "id": "7Lelxw3WIIqD",
        "outputId": "770e923b-eae2-4d8a-9510-7ef136486909"
      },
      "source": [
        "!ls\n",
        "torch.cuda.empty_cache()\n",
        "import gc\n",
        "\n",
        "gc.collect()"
      ],
      "execution_count": null,
      "outputs": [
        {
          "output_type": "stream",
          "text": [
            "emotion-detection-fer.zip  sample_data\ttest  train\n"
          ],
          "name": "stdout"
        },
        {
          "output_type": "execute_result",
          "data": {
            "text/plain": [
              "3068"
            ]
          },
          "metadata": {
            "tags": []
          },
          "execution_count": 1055
        }
      ]
    },
    {
      "cell_type": "markdown",
      "metadata": {
        "id": "GD8daK-nr3Vq"
      },
      "source": [
        "## 하이퍼파라미터 "
      ]
    },
    {
      "cell_type": "code",
      "metadata": {
        "id": "02xM8-Oer3Vq"
      },
      "source": [
        "EPOCHS     = 20\n",
        "BATCH_SIZE = 16"
      ],
      "execution_count": null,
      "outputs": []
    },
    {
      "cell_type": "markdown",
      "metadata": {
        "id": "lj3Uxw90r3Vq"
      },
      "source": [
        "## 데이터셋 불러오기"
      ]
    },
    {
      "cell_type": "code",
      "metadata": {
        "colab": {
          "base_uri": "https://localhost:8080/",
          "height": 305
        },
        "id": "zeuAUne7r3Vq",
        "outputId": "0032b9cc-37d3-4a0a-c474-63b6cb452aab"
      },
      "source": [
        "trans = transforms.Compose([\n",
        "                            transforms.Grayscale(),\n",
        "                            transforms.RandomHorizontalFlip(),\n",
        "                            transforms.ToTensor(),\n",
        "                            transforms.Normalize((0.5,), (0.5,))])\n",
        "\n",
        "train_data = torchvision.datasets.ImageFolder(root='./train', transform=trans)\n",
        "test_data = torchvision.datasets.ImageFolder(root='./test', transform=trans)\n",
        "\n",
        "train_loader = torch.utils.data.DataLoader(dataset = train_data, batch_size = BATCH_SIZE, shuffle = True)\n",
        "test_loader = torch.utils.data.DataLoader(dataset = test_data, batch_size = BATCH_SIZE, shuffle = True)\n",
        "\n",
        "classes = ['neutral', 'fearful', 'sad', 'happy', 'surprised', 'angry', 'disgusted']\n",
        "\n",
        "dataiter = iter(train_loader)\n",
        "images, labels = dataiter.next()\n",
        "print(images.shape)\n",
        "img = Image.open('./train/angry/im1.png')\n",
        "plt.imshow(np.asarray(img))\n",
        "print(labels)"
      ],
      "execution_count": null,
      "outputs": [
        {
          "output_type": "stream",
          "text": [
            "torch.Size([16, 1, 48, 48])\n",
            "tensor([2, 0, 3, 3, 0, 4, 0, 5, 3, 0, 3, 4, 2, 3, 6, 0])\n"
          ],
          "name": "stdout"
        },
        {
          "output_type": "display_data",
          "data": {
            "image/png": "[encoded data removed]",
            "text/plain": [
              "<Figure size 432x288 with 1 Axes>"
            ]
          },
          "metadata": {
            "tags": [],
            "needs_background": "light"
          }
        }
      ]
    },
    {
      "cell_type": "markdown",
      "metadata": {
        "id": "AagNFGUdr3Vr"
      },
      "source": [
        "## 모델\n",
        "\n"
      ]
    },
    {
      "cell_type": "code",
      "metadata": {
        "id": "FMFBl4ckxtJb"
      },
      "source": [
        "# 미리 훈련된 ResNet 모델을 다운로드하고 불러옴\n",
        "# torchvision.models 참고\n",
        "\n",
        "import torchvision.models as models\n",
        "\n",
        "# model = models.resnet50(pretrained=True)\n",
        "# print(model) # 불러온 모델 구조 확인\n",
        "\n",
        "class Model(nn.Module):\n",
        "    def __init__(self):\n",
        "      super(Model, self).__init__()\n",
        "      self.conv1 = nn.Conv2d(1, 16, 3)\n",
        "      self.conv2 = nn.Conv2d(16, 32, 3)\n",
        "      self.conv3 = nn.Conv2d(32, 64, 3)\n",
        "      self.conv4 = nn.Conv2d(64, 32, 3)\n",
        "      self.fc1 = nn.Linear(2048, 1024)\n",
        "      self.fc2 = nn.Linear(1024, 128)\n",
        "      self.fc3 = nn.Linear(128, 7)\n",
        "      self.batch_norm_16 = nn.BatchNorm2d(16)\n",
        "      self.batch_norm_32 = nn.BatchNorm2d(32)\n",
        "      self.batch_norm_64 = nn.BatchNorm2d(64)\n",
        "      self.drop_out = nn.Dropout2d(p=0.3)\n",
        "\n",
        "    def forward(self, x):\n",
        "      \n",
        "      x = F.relu(self.batch_norm_16(self.conv1(x)))\n",
        "      x = F.relu(self.drop_out(F.max_pool2d(self.batch_norm_32(self.conv2(x)), 2)))\n",
        "      x = F.relu(self.drop_out(F.max_pool2d(self.batch_norm_64(self.conv3(x)), 2)))\n",
        "      x = F.relu(self.drop_out(self.batch_norm_32(self.conv4(x))))\n",
        "      x = x.view(-1, 2048)\n",
        "\n",
        "      x = F.relu(self.drop_out(self.fc1(x)))\n",
        "      x = F.relu(self.drop_out(self.fc2(x)))\n",
        "      x = self.fc3(x)\n",
        "\n",
        "      return x\n",
        "\n",
        "model = Model()"
      ],
      "execution_count": null,
      "outputs": []
    },
    {
      "cell_type": "code",
      "metadata": {
        "id": "n0CD8LAQOjCv"
      },
      "source": [
        "# 제일 마지막 FC layer를 Cifar 클래스에 맞도록 Output 크기 교체 == 즉, resnet.fc를 새로운 nn.Linear를 정의하여 할당.\n",
        "# 기존 ResNet 모델 FC layer의 in_features값을 할당\n",
        "#num_input을 nn.Linear에 넣고 수정\n",
        "\n",
        "# model.fc = nn.Linear(model.fc.in_features, 7)"
      ],
      "execution_count": null,
      "outputs": []
    },
    {
      "cell_type": "markdown",
      "metadata": {
        "id": "TWlDMcGHr3Vs"
      },
      "source": [
        "## 준비"
      ]
    },
    {
      "cell_type": "code",
      "metadata": {
        "id": "DooWuhuar3Vt"
      },
      "source": [
        "model.to(DEVICE)\n",
        "\n",
        "optimizer = optim.Adam(model.parameters(), lr=0.01, momentum=0.9)#0.1 vs 0.001\n",
        "scheduler = optim.lr_scheduler.StepLR(optimizer, step_size=5, gamma=0.1)"
      ],
      "execution_count": null,
      "outputs": []
    },
    {
      "cell_type": "markdown",
      "metadata": {
        "id": "n_-fyFVpr3Vt"
      },
      "source": [
        "## 학습하기"
      ]
    },
    {
      "cell_type": "code",
      "metadata": {
        "id": "yA4gbfZSr3Vt"
      },
      "source": [
        "def train(model, train_loader, optimizer, epoch):\n",
        "    model.train()\n",
        "    for batch_idx, (data, target) in enumerate(train_loader):\n",
        "        data, target = data.to(DEVICE), target.to(DEVICE)\n",
        "        optimizer.zero_grad()\n",
        "        output = model(data)\n",
        "        loss = F.cross_entropy(output, target)\n",
        "        loss.backward()\n",
        "        optimizer.step()"
      ],
      "execution_count": null,
      "outputs": []
    },
    {
      "cell_type": "markdown",
      "metadata": {
        "id": "SCn77FrRr3Vt"
      },
      "source": [
        "## 테스트하기"
      ]
    },
    {
      "cell_type": "code",
      "metadata": {
        "id": "1Gqf8tBSr3Vt"
      },
      "source": [
        "def evaluate(model, test_loader):\n",
        "    model.eval()\n",
        "    test_loss = 0\n",
        "    correct = 0\n",
        "    with torch.no_grad():\n",
        "        for data, target in test_loader:\n",
        "            data, target = data.to(DEVICE), target.to(DEVICE)\n",
        "            output = model(data)\n",
        "\n",
        "            # 배치 오차를 합산\n",
        "            test_loss += F.cross_entropy(output, target,\n",
        "                                         reduction='sum').item()\n",
        "\n",
        "            # 가장 높은 값을 가진 인덱스가 바로 예측값\n",
        "            pred = output.max(1, keepdim=True)[1]\n",
        "            correct += pred.eq(target.view_as(pred)).sum().item()\n",
        "\n",
        "    test_loss /= len(test_loader.dataset)\n",
        "    test_accuracy = 100. * correct / len(test_loader.dataset)\n",
        "    return test_loss, test_accuracy"
      ],
      "execution_count": null,
      "outputs": []
    },
    {
      "cell_type": "markdown",
      "metadata": {
        "id": "V-Ocqw0vr3Vu"
      },
      "source": [
        "## 학습"
      ]
    },
    {
      "cell_type": "code",
      "metadata": {
        "id": "HWHW27FRr3Vu"
      },
      "source": [
        "loss = []\n",
        "accuracy = []\n",
        "for epoch in range(1, EPOCHS + 1):\n",
        "    train(model, train_loader, optimizer, epoch)\n",
        "    scheduler.step()\n",
        "    test_loss, test_accuracy = evaluate(model, test_loader)\n",
        "    \n",
        "    loss.append(test_loss)\n",
        "    accuracy.append(test_accuracy)\n",
        "    print('[{}] Test Loss: {:.4f}, Accuracy: {:.2f}%'.format(\n",
        "          epoch, test_loss, test_accuracy))\n",
        "plt.plot(loss)\n",
        "plt.plot(accuracy)\n",
        "plt.ylim(0, 100)\n",
        "plt.xlabel('Epoch')\n",
        "plt.ylabel('Accuracy')"
      ],
      "execution_count": null,
      "outputs": []
    }
  ]
}