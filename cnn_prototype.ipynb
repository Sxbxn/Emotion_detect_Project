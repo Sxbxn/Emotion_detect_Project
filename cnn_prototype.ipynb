{
  "nbformat": 4,
  "nbformat_minor": 0,
  "metadata": {
    "kernelspec": {
      "display_name": "Python 3",
      "language": "python",
      "name": "python3"
    },
    "language_info": {
      "codemirror_mode": {
        "name": "ipython",
        "version": 3
      },
      "file_extension": ".py",
      "mimetype": "text/x-python",
      "name": "python",
      "nbconvert_exporter": "python",
      "pygments_lexer": "ipython3",
      "version": "3.7.0"
    },
    "colab": {
      "name": "resnet_transferlearning.ipynb",
      "provenance": [],
      "collapsed_sections": []
    },
    "accelerator": "GPU"
  },
  "cells": [
    {
      "cell_type": "markdown",
      "metadata": {
        "id": "-Wx8EDfir3Vj"
      },
      "source": [
        "# CNN 설계\n"
      ]
    },
    {
      "cell_type": "code",
      "metadata": {
        "id": "NLuLSKGPr3Vo"
      },
      "source": [
        "import torch\n",
        "import torch.nn as nn\n",
        "import torchvision\n",
        "import torch.optim as optim\n",
        "import torch.nn.functional as F\n",
        "from torchvision import transforms, datasets, models"
      ],
      "execution_count": null,
      "outputs": []
    },
    {
      "cell_type": "code",
      "metadata": {
        "id": "kvDIuHu6r3Vp",
        "colab": {
          "base_uri": "https://localhost:8080/"
        },
        "outputId": "fd3b0d7c-faa0-4b0a-f836-c15c247a85aa"
      },
      "source": [
        "USE_CUDA = torch.cuda.is_available()\n",
        "DEVICE = torch.device(\"cuda\" if USE_CUDA else \"cpu\")\n",
        "print(DEVICE)"
      ],
      "execution_count": null,
      "outputs": [
        {
          "output_type": "stream",
          "text": [
            "cuda\n"
          ],
          "name": "stdout"
        }
      ]
    },
    {
      "cell_type": "code",
      "metadata": {
        "id": "8G-Xl2oa9bfJ"
      },
      "source": [
        ""
      ],
      "execution_count": null,
      "outputs": []
    },
    {
      "cell_type": "markdown",
      "metadata": {
        "id": "GD8daK-nr3Vq"
      },
      "source": [
        "## 하이퍼파라미터 "
      ]
    },
    {
      "cell_type": "code",
      "metadata": {
        "id": "02xM8-Oer3Vq"
      },
      "source": [
        "EPOCHS     = 30\n",
        "BATCH_SIZE = 1"
      ],
      "execution_count": null,
      "outputs": []
    },
    {
      "cell_type": "markdown",
      "metadata": {
        "id": "lj3Uxw90r3Vq"
      },
      "source": [
        "## 데이터셋 불러오기"
      ]
    },
    {
      "cell_type": "code",
      "metadata": {
        "colab": {
          "base_uri": "https://localhost:8080/"
        },
        "id": "zeuAUne7r3Vq",
        "outputId": "4c9c41fb-721c-4d7a-d777-255b6e77e054"
      },
      "source": [
        "train_loader = torch.utils.data.DataLoader(\n",
        "    datasets.CIFAR10('./.data',\n",
        "                   train=True,\n",
        "                   download=True,\n",
        "                   transform=transforms.Compose([\n",
        "                       transforms.ToTensor(),\n",
        "                       transforms.Normalize((0.5,),\n",
        "                                            (0.5,))])),\n",
        "    batch_size=BATCH_SIZE, shuffle=True)\n",
        "test_loader = torch.utils.data.DataLoader(\n",
        "    datasets.CIFAR10('./.data',\n",
        "                   train=False, \n",
        "                   transform=transforms.Compose([\n",
        "                       transforms.ToTensor(),\n",
        "                       transforms.Normalize((0.5,),\n",
        "                                            (0.5,))])),\n",
        "    batch_size=BATCH_SIZE, shuffle=True)"
      ],
      "execution_count": null,
      "outputs": [
        {
          "output_type": "stream",
          "text": [
            "Files already downloaded and verified\n"
          ],
          "name": "stdout"
        }
      ]
    },
    {
      "cell_type": "markdown",
      "metadata": {
        "id": "AagNFGUdr3Vr"
      },
      "source": [
        "## 모델\n",
        "\n"
      ]
    },
    {
      "cell_type": "code",
      "metadata": {
        "id": "FMFBl4ckxtJb"
      },
      "source": [
        "# 미리 훈련된 ResNet 모델을 다운로드하고 불러옴\n",
        "# torchvision.models 참고\n",
        "\n",
        "import torchvision.models as models\n",
        "\n",
        "# model = models.resnet50(pretrained=True)\n",
        "# print(model) # 불러온 모델 구조 확인\n",
        "\n",
        "class Model(nn.Module):\n",
        "    def __init__(self):\n",
        "      super(Model, self).__init__()\n",
        "      self.conv1 = nn.Conv2d(3, 16, 3)\n",
        "      self.conv2 = nn.Conv2d(16, 32, 3)\n",
        "      self.fc1 = nn.Linear(1152, 50)\n",
        "      self.fc2 = nn.Linear(50, 10)\n",
        "\n",
        "    def forward(self, x):\n",
        "      x = F.relu(F.max_pool2d(self.conv1(x), 2))\n",
        "      x = F.relu(F.max_pool2d(self.conv2(x), 2))\n",
        "      x = x.view(-1, 1152)\n",
        "      x = F.relu(self.fc1(x))\n",
        "      x = self.fc2(x)\n",
        "      return x\n",
        "\n",
        "model = Model()"
      ],
      "execution_count": null,
      "outputs": []
    },
    {
      "cell_type": "code",
      "metadata": {
        "id": "n0CD8LAQOjCv"
      },
      "source": [
        "# 제일 마지막 FC layer를 Cifar 클래스에 맞도록 Output 크기 교체 == 즉, resnet.fc를 새로운 nn.Linear를 정의하여 할당.\n",
        "# 기존 ResNet 모델 FC layer의 in_features값을 할당\n",
        "#num_input을 nn.Linear에 넣고 수정\n",
        "\n",
        "# model.fc = nn.Linear(model.fc.in_features, 10)"
      ],
      "execution_count": null,
      "outputs": []
    },
    {
      "cell_type": "markdown",
      "metadata": {
        "id": "TWlDMcGHr3Vs"
      },
      "source": [
        "## 준비"
      ]
    },
    {
      "cell_type": "code",
      "metadata": {
        "id": "DooWuhuar3Vt"
      },
      "source": [
        "model.to(DEVICE)\n",
        "\n",
        "optimizer = optim.SGD(model.parameters(), lr=0.001, momentum=0.9)#0.1 vs 0.001\n",
        "scheduler = optim.lr_scheduler.StepLR(optimizer, step_size=5, gamma=0.1)"
      ],
      "execution_count": null,
      "outputs": []
    },
    {
      "cell_type": "markdown",
      "metadata": {
        "id": "n_-fyFVpr3Vt"
      },
      "source": [
        "## 학습하기"
      ]
    },
    {
      "cell_type": "code",
      "metadata": {
        "id": "yA4gbfZSr3Vt"
      },
      "source": [
        "def train(model, train_loader, optimizer, epoch):\n",
        "    model.train()\n",
        "    for batch_idx, (data, target) in enumerate(train_loader):\n",
        "        data, target = data.to(DEVICE), target.to(DEVICE)\n",
        "        optimizer.zero_grad()\n",
        "        output = model(data)\n",
        "        loss = F.cross_entropy(output, target)\n",
        "        loss.backward()\n",
        "        optimizer.step()"
      ],
      "execution_count": null,
      "outputs": []
    },
    {
      "cell_type": "markdown",
      "metadata": {
        "id": "SCn77FrRr3Vt"
      },
      "source": [
        "## 테스트하기"
      ]
    },
    {
      "cell_type": "code",
      "metadata": {
        "id": "1Gqf8tBSr3Vt"
      },
      "source": [
        "def evaluate(model, test_loader):\n",
        "    model.eval()\n",
        "    test_loss = 0\n",
        "    correct = 0\n",
        "    with torch.no_grad():\n",
        "        for data, target in test_loader:\n",
        "            data, target = data.to(DEVICE), target.to(DEVICE)\n",
        "            output = model(data)\n",
        "\n",
        "            # 배치 오차를 합산\n",
        "            test_loss += F.cross_entropy(output, target,\n",
        "                                         reduction='sum').item()\n",
        "\n",
        "            # 가장 높은 값을 가진 인덱스가 바로 예측값\n",
        "            pred = output.max(1, keepdim=True)[1]\n",
        "            correct += pred.eq(target.view_as(pred)).sum().item()\n",
        "\n",
        "    test_loss /= len(test_loader.dataset)\n",
        "    test_accuracy = 100. * correct / len(test_loader.dataset)\n",
        "    return test_loss, test_accuracy"
      ],
      "execution_count": null,
      "outputs": []
    },
    {
      "cell_type": "markdown",
      "metadata": {
        "id": "V-Ocqw0vr3Vu"
      },
      "source": [
        "## 학습"
      ]
    },
    {
      "cell_type": "code",
      "metadata": {
        "id": "HWHW27FRr3Vu",
        "colab": {
          "base_uri": "https://localhost:8080/"
        },
        "outputId": "93bcc205-1cde-4a50-9752-873329703592"
      },
      "source": [
        "for epoch in range(1, EPOCHS + 1):\n",
        "    train(model, train_loader, optimizer, epoch)\n",
        "    scheduler.step()\n",
        "    test_loss, test_accuracy = evaluate(model, test_loader)\n",
        "    \n",
        "    print('[{}] Test Loss: {:.4f}, Accuracy: {:.2f}%'.format(\n",
        "          epoch, test_loss, test_accuracy))"
      ],
      "execution_count": null,
      "outputs": [
        {
          "output_type": "stream",
          "text": [
            "[1] Test Loss: 1.4206, Accuracy: 49.64%\n",
            "[2] Test Loss: 1.3389, Accuracy: 53.81%\n",
            "[3] Test Loss: 1.2346, Accuracy: 58.98%\n",
            "[4] Test Loss: 1.2910, Accuracy: 55.89%\n",
            "[5] Test Loss: 1.2571, Accuracy: 59.49%\n",
            "[6] Test Loss: 1.0285, Accuracy: 66.85%\n",
            "[7] Test Loss: 1.0168, Accuracy: 67.08%\n",
            "[8] Test Loss: 1.0258, Accuracy: 67.65%\n",
            "[9] Test Loss: 1.0328, Accuracy: 67.59%\n",
            "[10] Test Loss: 1.0419, Accuracy: 67.67%\n",
            "[11] Test Loss: 1.0447, Accuracy: 68.30%\n",
            "[12] Test Loss: 1.0505, Accuracy: 68.36%\n",
            "[13] Test Loss: 1.0550, Accuracy: 68.27%\n",
            "[14] Test Loss: 1.0587, Accuracy: 68.16%\n",
            "[15] Test Loss: 1.0647, Accuracy: 68.29%\n",
            "[16] Test Loss: 1.0642, Accuracy: 68.26%\n",
            "[17] Test Loss: 1.0645, Accuracy: 68.24%\n",
            "[18] Test Loss: 1.0649, Accuracy: 68.21%\n",
            "[19] Test Loss: 1.0651, Accuracy: 68.28%\n",
            "[20] Test Loss: 1.0657, Accuracy: 68.21%\n",
            "[21] Test Loss: 1.0657, Accuracy: 68.24%\n",
            "[22] Test Loss: 1.0656, Accuracy: 68.24%\n",
            "[23] Test Loss: 1.0656, Accuracy: 68.23%\n",
            "[24] Test Loss: 1.0656, Accuracy: 68.23%\n",
            "[25] Test Loss: 1.0656, Accuracy: 68.24%\n",
            "[26] Test Loss: 1.0656, Accuracy: 68.23%\n",
            "[27] Test Loss: 1.0655, Accuracy: 68.23%\n",
            "[28] Test Loss: 1.0655, Accuracy: 68.23%\n",
            "[29] Test Loss: 1.0655, Accuracy: 68.23%\n",
            "[30] Test Loss: 1.0655, Accuracy: 68.24%\n"
          ],
          "name": "stdout"
        }
      ]
    }
  ]
}